{
 "cells": [
  {
   "cell_type": "code",
   "execution_count": 8,
   "id": "98b03eab-1ca2-47af-a839-e3b13e7d8c97",
   "metadata": {},
   "outputs": [
    {
     "name": "stdout",
     "output_type": "stream",
     "text": [
      "1.1000000000000003 -1.4 0.9000000000000001 0.4 2.4\n"
     ]
    }
   ],
   "source": [
    "import numpy as np\n",
    "\n",
    "# Given values\n",
    "mean_s1 = 1\n",
    "var_s1 = 1\n",
    "mean_s2 = -1\n",
    "var_s2 = 4\n",
    "var_t = 5\n",
    "t_obs = 3\n",
    "\n",
    "# Prior means\n",
    "mu = np.array([[mean_s1], [mean_s2]])\n",
    "\n",
    "# Covariance matrix of skills\n",
    "C = np.array([[var_s1, 0], [0, var_s2]])\n",
    "\n",
    "# Precision matrix of skills\n",
    "P = np.linalg.inv(C)\n",
    "\n",
    "# Compute updated precision matrix given t\n",
    "P_new = P + np.array([[1, -1], [-1, 1]]) / var_t\n",
    "\n",
    "# Compute updated mean given t\n",
    "mu_new = np.linalg.inv(P_new) @ (P @ mu + np.array([[t_obs], [-t_obs]]) / var_t)\n",
    "\n",
    "m1, m2 = mu_new.flatten()\n",
    "s11 = np.linalg.inv(P_new)[0, 0]\n",
    "s12 = np.linalg.inv(P_new)[0, 1]\n",
    "s22 = np.linalg.inv(P_new)[1, 1]\n",
    "\n",
    "print(m1, m2, s11, s12, s22)\n"
   ]
  },
  {
   "cell_type": "code",
   "execution_count": 2,
   "id": "01cc1014-ad02-4b88-a01b-334afe685831",
   "metadata": {},
   "outputs": [
    {
     "name": "stdout",
     "output_type": "stream",
     "text": [
      "1 5 0 inf\n"
     ]
    }
   ],
   "source": [
    "s1_obs = 2\n",
    "s2_obs = 1\n",
    "y_obs = 1\n",
    "\n",
    "m_t = s1_obs - s2_obs\n",
    "sigma2_t = var_t\n",
    "\n",
    "if y_obs == 1:\n",
    "    a = 0\n",
    "    b = np.inf\n",
    "elif y_obs == -1:\n",
    "    a = -np.inf\n",
    "    b = 0\n",
    "\n",
    "print(m_t, sigma2_t, a, b)\n"
   ]
  },
  {
   "cell_type": "code",
   "execution_count": 12,
   "id": "76b53c4a-df15-4b6c-bf72-161131cf9185",
   "metadata": {},
   "outputs": [
    {
     "name": "stdout",
     "output_type": "stream",
     "text": [
      "0.736455371567231\n"
     ]
    }
   ],
   "source": [
    "from scipy.stats import norm\n",
    "\n",
    "mu_t = 2\n",
    "sigma_t = np.sqrt(10)\n",
    "probability_y1 = 1 - norm.cdf(0, mu_t, sigma_t)\n",
    "\n",
    "print(probability_y1)\n"
   ]
  },
  {
   "cell_type": "code",
   "execution_count": null,
   "id": "c476c74b-4d6b-4275-8eb8-515bb68057ca",
   "metadata": {},
   "outputs": [],
   "source": []
  }
 ],
 "metadata": {
  "kernelspec": {
   "display_name": "Python 3 (ipykernel)",
   "language": "python",
   "name": "python3"
  },
  "language_info": {
   "codemirror_mode": {
    "name": "ipython",
    "version": 3
   },
   "file_extension": ".py",
   "mimetype": "text/x-python",
   "name": "python",
   "nbconvert_exporter": "python",
   "pygments_lexer": "ipython3",
   "version": "3.11.5"
  }
 },
 "nbformat": 4,
 "nbformat_minor": 5
}
