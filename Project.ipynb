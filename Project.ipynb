{
 "cells": [
  {
   "cell_type": "markdown",
   "id": "8789ac8b-c09a-4556-967b-674785d72b85",
   "metadata": {},
   "source": [
    "<h1>\n",
    "    Q.1 Modeling \n",
    "</h1>"
   ]
  },
  {
   "cell_type": "markdown",
   "id": "d04defb3-e61c-4a8c-800a-b0987405218c",
   "metadata": {},
   "source": [
    "<h3>Skill:</h3>\n",
    "<ul>\n",
    "    <li>Player 1 skill: $s_1$</li>\n",
    "    <li>Player 2 skill: $s_2$</li>\n",
    "</ul>\n",
    "Where: $s_1 \\sim \\mathcal{N}(\\mu_1,\\,\\sigma^{2}_1)$\n",
    "\n",
    "Where: $s_2 \\sim \\mathcal{N}(\\mu_2,\\,\\sigma^{2}_2)$"
   ]
  },
  {
   "cell_type": "markdown",
   "id": "2bbf8848-f720-44a4-8aed-286265e7262e",
   "metadata": {},
   "source": [
    "<h3>Game outcome:</h3>\n",
    "<ul>\n",
    "    <li>$t = s_1 - s_2$</li>\n",
    "</ul>\n",
    "Where: $t \\sim \\mathcal{N}(s_1 - s_2,\\,\\beta^{2})$"
   ]
  },
  {
   "cell_type": "markdown",
   "id": "626c17e5-cc75-48cb-b989-d5ba69a4f72c",
   "metadata": {},
   "source": [
    "<h3>Game result:</h3>\n",
    "<ul>\n",
    "    <li>If player 1 wins: $y = 1$</li>\n",
    "    <li>If player 2 wins: $y = -1$</li>\n",
    "</ul>"
   ]
  },
  {
   "cell_type": "markdown",
   "id": "76588410-ecc0-468d-addd-b082748a55a5",
   "metadata": {},
   "source": [
    "<h3>Bayesian model:</h3>\n",
    "<ul>\n",
    "    <li>$P(s_1, s_2, t, y) = P(y|t) \\cdot P(t|s_1, s_2) \\cdot P(s_1) \\cdot P(s_2)$</li>\n",
    "</ul>\n",
    "Where: \n",
    "<ul>\n",
    "    <li>$P(y|t)$ is the relationship between the game outcome (t) and the game result (y)</li>\n",
    "    <li>$P(t|s_1, s_2)$ is the likelihood of observing the game outcome (\r",
    ")\n",
    "t given the players' skils:</li>\n",
    "    <li>$P(s_1)$ and $P(s_2)$ are the players' skill priors</li>\n",
    "</ul>"
   ]
  },
  {
   "cell_type": "markdown",
   "id": "d3fb1691-a4df-4d59-a45a-382f3b170cf7",
   "metadata": {},
   "source": [
    "<h3>Hyperparameters:</h3>\n",
    "<ul>\n",
    "    <li>Player 1: $\\mu_1$ and $\\sigma^{2}_1$</li>\n",
    "    <li>Player 2: $\\mu_2$ and $\\sigma^{2}_2$</li>\n",
    "    <li>Unpredictability of the game outcome: $\\beta^{2}$</li>\n",
    "</ul>"
   ]
  },
  {
   "cell_type": "markdown",
   "id": "a215aa81-719a-4333-ad0a-75a3cecfa9b1",
   "metadata": {},
   "source": [
    "<h1>\n",
    "    Q.2 Bayesian Network\n",
    "</h1>"
   ]
  },
  {
   "cell_type": "raw",
   "id": "353194fe-4b09-4aed-b4ec-440f84fd2210",
   "metadata": {},
   "source": [
    "s1 -> \n",
    "      \\\n",
    "        -> t -> y\n",
    "      /\n",
    "s2 ->"
   ]
  },
  {
   "cell_type": "markdown",
   "id": "84230f8b-0810-4995-b5bc-12cc1fe8be2c",
   "metadata": {},
   "source": [
    "$s_1$ and $s_2$ influences $t$ \n",
    "\n",
    "$t$ then influences $y$"
   ]
  },
  {
   "cell_type": "markdown",
   "id": "42493226-f42d-46d4-b655-b151be4cf823",
   "metadata": {},
   "source": [
    "<h1>\n",
    "    Q.3 Computing with the model\n",
    "</h1>"
   ]
  },
  {
   "cell_type": "code",
   "execution_count": 1,
   "id": "be9d8dbc-6ed1-4513-80db-c4170f690638",
   "metadata": {},
   "outputs": [],
   "source": [
    "import numpy as np\n",
    "from scipy.stats import norm"
   ]
  },
  {
   "cell_type": "markdown",
   "id": "42f2d9dc-d971-4ea7-91bd-1b74e2e74f40",
   "metadata": {},
   "source": [
    "<h3>$p(s1, s2|t, y)$ - Full conditional distribution of the skills</h3>"
   ]
  },
  {
   "cell_type": "code",
   "execution_count": 2,
   "id": "73a047e0-bc3a-49fd-9b82-2b4511d9b6df",
   "metadata": {},
   "outputs": [
    {
     "name": "stdout",
     "output_type": "stream",
     "text": [
      "Posterior mean of s1 and s2: [ 1.1 -1.4]\n",
      "Posterior covariance of s1 and s2: [[0.9 0.4]\n",
      " [0.4 2.4]]\n"
     ]
    }
   ],
   "source": [
    "# Given values\n",
    "mean_s1 = 1\n",
    "var_s1 = 1\n",
    "mean_s2 = -1\n",
    "var_s2 = 4\n",
    "var_t = 5\n",
    "t_obs = 3\n",
    "\n",
    "# Matrix representations\n",
    "A = np.array([[1, -1]])\n",
    "mu_prior = np.array([[mean_s1], [mean_s2]])\n",
    "Sigma_prior = np.array([[var_s1, 0], [0, var_s2]])\n",
    "\n",
    "# Update formulas for Gaussian-Gaussian Bayesian update\n",
    "Sigma_posterior = np.linalg.inv(np.linalg.inv(Sigma_prior) + (A.T / var_t) @ A)\n",
    "mu_posterior = Sigma_posterior @ (np.linalg.inv(Sigma_prior) @ mu_prior + (A.T / var_t) @ np.array([[t_obs]]))\n",
    "\n",
    "print(\"Posterior mean of s1 and s2:\", mu_posterior.flatten())\n",
    "print(\"Posterior covariance of s1 and s2:\", Sigma_posterior)"
   ]
  },
  {
   "cell_type": "markdown",
   "id": "8d9fbd53-d0e3-4ec4-8d3a-df456d3843ef",
   "metadata": {},
   "source": [
    "<h3>$p(t|s1, s2, y)$ - Full conditional distribution of the outcome</h3>"
   ]
  },
  {
   "cell_type": "code",
   "execution_count": 6,
   "id": "2202896c-6e9d-45b0-8c73-e455627f7f25",
   "metadata": {},
   "outputs": [
    {
     "name": "stdout",
     "output_type": "stream",
     "text": [
      "For the Quiz:\n",
      "m_t: 1, sigma^2_t: 5,\n",
      "Gaussian with truncation bounds: [0, inf]\n",
      "\n",
      "Given the inital values:\n",
      "p(t|s1, s2, y) has mean: 2.5 and variance: 8.3\n"
     ]
    }
   ],
   "source": [
    "# Given observed values for skills and game result\n",
    "s1_obs = 2\n",
    "s2_obs = 1\n",
    "y_obs = 1\n",
    "\n",
    "m_t = s1_obs - s2_obs\n",
    "sigma2_t = var_t\n",
    "\n",
    "# Determine truncation bounds based on game result\n",
    "if y_obs == 1:\n",
    "    a = 0\n",
    "    b = np.inf\n",
    "elif y_obs == -1:\n",
    "    a = -np.inf\n",
    "    b = 0\n",
    "    \n",
    "print(f\"For the Quiz:\")\n",
    "print(f\"m_t: {m_t}, sigma^2_t: {sigma2_t},\\nGaussian with truncation bounds: [{a}, {b}]\\n\")\n",
    "\n",
    "mu_t = mu_posterior[0, 0] - mu_posterior[1, 0]\n",
    "sigma2_t = var_t + Sigma_posterior[0, 0] + Sigma_posterior[1, 1]\n",
    "print(f\"Given the inital values:\")\n",
    "print(\"p(t|s1, s2, y) has mean:\", mu_t, \"and variance:\", sigma2_t)"
   ]
  },
  {
   "cell_type": "markdown",
   "id": "d77430d1-3fba-4801-8230-73ae1e0dc152",
   "metadata": {},
   "source": [
    "<h3>$p(y=1)$ - Marginal probability that Player 1 wins the game</h3>"
   ]
  },
  {
   "cell_type": "code",
   "execution_count": 4,
   "id": "ab3118be-a401-4a12-96f5-dee8aa24041c",
   "metadata": {},
   "outputs": [
    {
     "name": "stdout",
     "output_type": "stream",
     "text": [
      "Marginal probability that Player 1 wins (p(y=1)): 0.7365\n",
      "Marginal probability that Player 2 wins (p(y=-1)): 0.2635\n"
     ]
    }
   ],
   "source": [
    "# Computing the marginal probability \n",
    "mu_t = 2  \n",
    "sigma_t = np.sqrt(var_s1 + var_s2 + var_t)\n",
    "\n",
    "probability_y1 = 1 - norm.cdf(0, mu_t, sigma_t)\n",
    "\n",
    "print(f\"Marginal probability that Player 1 wins (p(y=1)): {round(probability_y1,4)}\")\n",
    "print(f\"Marginal probability that Player 2 wins (p(y=-1)): {round(1-probability_y1,4)}\")"
   ]
  },
  {
   "cell_type": "code",
   "execution_count": null,
   "id": "69e31bdc-beb7-472d-8a0d-17c5eebf6313",
   "metadata": {},
   "outputs": [],
   "source": []
  }
 ],
 "metadata": {
  "kernelspec": {
   "display_name": "Python 3 (ipykernel)",
   "language": "python",
   "name": "python3"
  },
  "language_info": {
   "codemirror_mode": {
    "name": "ipython",
    "version": 3
   },
   "file_extension": ".py",
   "mimetype": "text/x-python",
   "name": "python",
   "nbconvert_exporter": "python",
   "pygments_lexer": "ipython3",
   "version": "3.11.5"
  }
 },
 "nbformat": 4,
 "nbformat_minor": 5
}
